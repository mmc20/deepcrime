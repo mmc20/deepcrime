{
 "cells": [
  {
   "cell_type": "code",
   "execution_count": 1,
   "metadata": {},
   "outputs": [],
   "source": [
    "import numpy as np\n",
    "import pandas as pd\n",
    "import matplotlib.pyplot as plt\n",
    "import datetime\n",
    "%matplotlib inline"
   ]
  },
  {
   "cell_type": "code",
   "execution_count": 2,
   "metadata": {},
   "outputs": [],
   "source": [
    "df = pd.read_csv(\"HPD_Crime_2009_2017_v01.csv\")"
   ]
  },
  {
   "cell_type": "code",
   "execution_count": 3,
   "metadata": {},
   "outputs": [],
   "source": [
    "df[\"month\"] = pd.to_datetime(df.Date_Reported, infer_datetime_format=True).dt.month"
   ]
  },
  {
   "cell_type": "code",
   "execution_count": 4,
   "metadata": {},
   "outputs": [
    {
     "data": {
      "text/html": [
       "<div>\n",
       "<style scoped>\n",
       "    .dataframe tbody tr th:only-of-type {\n",
       "        vertical-align: middle;\n",
       "    }\n",
       "\n",
       "    .dataframe tbody tr th {\n",
       "        vertical-align: top;\n",
       "    }\n",
       "\n",
       "    .dataframe thead th {\n",
       "        text-align: right;\n",
       "    }\n",
       "</style>\n",
       "<table border=\"1\" class=\"dataframe\">\n",
       "  <thead>\n",
       "    <tr style=\"text-align: right;\">\n",
       "      <th></th>\n",
       "      <th>Location_Desc</th>\n",
       "      <th>Police_Beat</th>\n",
       "      <th>Street_Type</th>\n",
       "      <th>RecordID</th>\n",
       "      <th>Date_Reported</th>\n",
       "      <th>Offense_Type</th>\n",
       "      <th>Block_Range</th>\n",
       "      <th>Street_Prefix</th>\n",
       "      <th>Street_Name</th>\n",
       "      <th>Num_Offenses</th>\n",
       "      <th>...</th>\n",
       "      <th>Y</th>\n",
       "      <th>GEOID10</th>\n",
       "      <th>GEOID00</th>\n",
       "      <th>Police_Division</th>\n",
       "      <th>CTA_ID</th>\n",
       "      <th>CTA_Name</th>\n",
       "      <th>Geocoded</th>\n",
       "      <th>Location_Code</th>\n",
       "      <th>Hour</th>\n",
       "      <th>month</th>\n",
       "    </tr>\n",
       "  </thead>\n",
       "  <tbody>\n",
       "    <tr>\n",
       "      <th>0</th>\n",
       "      <td>NaN</td>\n",
       "      <td>14D40</td>\n",
       "      <td>RD</td>\n",
       "      <td>1</td>\n",
       "      <td>NaN</td>\n",
       "      <td>Burglary</td>\n",
       "      <td>5600-5699</td>\n",
       "      <td>NaN</td>\n",
       "      <td>SELINSKY</td>\n",
       "      <td>1</td>\n",
       "      <td>...</td>\n",
       "      <td>29.637514</td>\n",
       "      <td>4.820133e+14</td>\n",
       "      <td>4.820133e+14</td>\n",
       "      <td>Southeast Division</td>\n",
       "      <td>K066</td>\n",
       "      <td>Minnetex</td>\n",
       "      <td>1</td>\n",
       "      <td>NaN</td>\n",
       "      <td>8</td>\n",
       "      <td>NaN</td>\n",
       "    </tr>\n",
       "    <tr>\n",
       "      <th>1</th>\n",
       "      <td>NaN</td>\n",
       "      <td>7C20</td>\n",
       "      <td>NaN</td>\n",
       "      <td>2</td>\n",
       "      <td>NaN</td>\n",
       "      <td>Theft</td>\n",
       "      <td>3900-3999</td>\n",
       "      <td>NaN</td>\n",
       "      <td>CAVALCADE</td>\n",
       "      <td>1</td>\n",
       "      <td>...</td>\n",
       "      <td>29.800081</td>\n",
       "      <td>4.820121e+14</td>\n",
       "      <td>4.820121e+14</td>\n",
       "      <td>Northeast Division</td>\n",
       "      <td>K004</td>\n",
       "      <td>Kashmere Gardens</td>\n",
       "      <td>1</td>\n",
       "      <td>NaN</td>\n",
       "      <td>11</td>\n",
       "      <td>NaN</td>\n",
       "    </tr>\n",
       "    <tr>\n",
       "      <th>2</th>\n",
       "      <td>NaN</td>\n",
       "      <td>13D40</td>\n",
       "      <td>PKWY</td>\n",
       "      <td>3</td>\n",
       "      <td>NaN</td>\n",
       "      <td>Theft</td>\n",
       "      <td>8500-8599</td>\n",
       "      <td>S</td>\n",
       "      <td>SAM HOUSTON</td>\n",
       "      <td>1</td>\n",
       "      <td>...</td>\n",
       "      <td>29.625560</td>\n",
       "      <td>4.820133e+14</td>\n",
       "      <td>4.820133e+14</td>\n",
       "      <td>Southwest Division</td>\n",
       "      <td>K070</td>\n",
       "      <td>Five Corners</td>\n",
       "      <td>1</td>\n",
       "      <td>NaN</td>\n",
       "      <td>15</td>\n",
       "      <td>NaN</td>\n",
       "    </tr>\n",
       "    <tr>\n",
       "      <th>3</th>\n",
       "      <td>NaN</td>\n",
       "      <td>18F40</td>\n",
       "      <td>RD</td>\n",
       "      <td>4</td>\n",
       "      <td>NaN</td>\n",
       "      <td>Robbery</td>\n",
       "      <td>2700-2799</td>\n",
       "      <td>NaN</td>\n",
       "      <td>DUNVALE</td>\n",
       "      <td>1</td>\n",
       "      <td>...</td>\n",
       "      <td>29.736820</td>\n",
       "      <td>4.820143e+14</td>\n",
       "      <td>4.820143e+14</td>\n",
       "      <td>Midwest Division</td>\n",
       "      <td>K080</td>\n",
       "      <td>Mid-West</td>\n",
       "      <td>1</td>\n",
       "      <td>NaN</td>\n",
       "      <td>14</td>\n",
       "      <td>NaN</td>\n",
       "    </tr>\n",
       "    <tr>\n",
       "      <th>4</th>\n",
       "      <td>RESTAURANT/CAFETERIA</td>\n",
       "      <td>24C60</td>\n",
       "      <td>PKWY</td>\n",
       "      <td>5</td>\n",
       "      <td>09/08/1914</td>\n",
       "      <td>Burglary</td>\n",
       "      <td>12700-12799</td>\n",
       "      <td>W</td>\n",
       "      <td>LAKE HOUSTON</td>\n",
       "      <td>1</td>\n",
       "      <td>...</td>\n",
       "      <td>29.924672</td>\n",
       "      <td>4.820125e+14</td>\n",
       "      <td>4.820125e+14</td>\n",
       "      <td>Kingwood Division</td>\n",
       "      <td>K106</td>\n",
       "      <td>Lake Houston</td>\n",
       "      <td>1</td>\n",
       "      <td>210</td>\n",
       "      <td>7</td>\n",
       "      <td>9.0</td>\n",
       "    </tr>\n",
       "  </tbody>\n",
       "</table>\n",
       "<p>5 rows × 24 columns</p>\n",
       "</div>"
      ],
      "text/plain": [
       "          Location_Desc Police_Beat Street_Type  RecordID Date_Reported  \\\n",
       "0                   NaN       14D40          RD         1           NaN   \n",
       "1                   NaN        7C20         NaN         2           NaN   \n",
       "2                   NaN       13D40        PKWY         3           NaN   \n",
       "3                   NaN       18F40          RD         4           NaN   \n",
       "4  RESTAURANT/CAFETERIA       24C60        PKWY         5    09/08/1914   \n",
       "\n",
       "  Offense_Type  Block_Range Street_Prefix   Street_Name  Num_Offenses  ...  \\\n",
       "0     Burglary    5600-5699           NaN      SELINSKY             1  ...   \n",
       "1        Theft    3900-3999           NaN     CAVALCADE             1  ...   \n",
       "2        Theft    8500-8599             S   SAM HOUSTON             1  ...   \n",
       "3      Robbery    2700-2799           NaN       DUNVALE             1  ...   \n",
       "4     Burglary  12700-12799             W  LAKE HOUSTON             1  ...   \n",
       "\n",
       "           Y       GEOID10       GEOID00     Police_Division  CTA_ID  \\\n",
       "0  29.637514  4.820133e+14  4.820133e+14  Southeast Division    K066   \n",
       "1  29.800081  4.820121e+14  4.820121e+14  Northeast Division    K004   \n",
       "2  29.625560  4.820133e+14  4.820133e+14  Southwest Division    K070   \n",
       "3  29.736820  4.820143e+14  4.820143e+14    Midwest Division    K080   \n",
       "4  29.924672  4.820125e+14  4.820125e+14   Kingwood Division    K106   \n",
       "\n",
       "           CTA_Name  Geocoded Location_Code Hour month  \n",
       "0          Minnetex         1           NaN    8   NaN  \n",
       "1  Kashmere Gardens         1           NaN   11   NaN  \n",
       "2      Five Corners         1           NaN   15   NaN  \n",
       "3          Mid-West         1           NaN   14   NaN  \n",
       "4      Lake Houston         1           210    7   9.0  \n",
       "\n",
       "[5 rows x 24 columns]"
      ]
     },
     "execution_count": 4,
     "metadata": {},
     "output_type": "execute_result"
    }
   ],
   "source": [
    "df.head()"
   ]
  },
  {
   "cell_type": "code",
   "execution_count": 5,
   "metadata": {},
   "outputs": [
    {
     "data": {
      "text/plain": [
       "7.0     101901\n",
       "8.0     101137\n",
       "12.0     98471\n",
       "10.0     97767\n",
       "6.0      95481\n",
       "9.0      94322\n",
       "11.0     93415\n",
       "5.0      89213\n",
       "1.0      85950\n",
       "4.0      83363\n",
       "3.0      81383\n",
       "2.0      71800\n",
       "Name: month, dtype: int64"
      ]
     },
     "execution_count": 5,
     "metadata": {},
     "output_type": "execute_result"
    }
   ],
   "source": [
    "df.month.value_counts()"
   ]
  },
  {
   "cell_type": "code",
   "execution_count": 17,
   "metadata": {},
   "outputs": [
    {
     "data": {
      "text/plain": [
       "Text(0, 0.5, 'frequency of crime')"
      ]
     },
     "execution_count": 17,
     "metadata": {},
     "output_type": "execute_result"
    },
    {
     "data": {
      "image/png": "[encoded data removed]",
      "text/plain": [
       "<Figure size 432x288 with 1 Axes>"
      ]
     },
     "metadata": {
      "needs_background": "light"
     },
     "output_type": "display_data"
    }
   ],
   "source": [
    "plot = df.month.value_counts().sort_index().plot.bar()\n",
    "plot.set_xlabel(\"months\")\n",
    "plot.set_ylabel(\"frequency of crime\")"
   ]
  },
  {
   "cell_type": "code",
   "execution_count": null,
   "metadata": {},
   "outputs": [],
   "source": []
  }
 ],
 "metadata": {
  "kernelspec": {
   "display_name": "Python 3",
   "language": "python",
   "name": "python3"
  },
  "language_info": {
   "codemirror_mode": {
    "name": "ipython",
    "version": 3
   },
   "file_extension": ".py",
   "mimetype": "text/x-python",
   "name": "python",
   "nbconvert_exporter": "python",
   "pygments_lexer": "ipython3",
   "version": "3.7.3"
  }
 },
 "nbformat": 4,
 "nbformat_minor": 2
}
